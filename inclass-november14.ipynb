{
 "cells": [
  {
   "metadata": {},
   "cell_type": "markdown",
   "source": [
    "# Encryption Matrix\n",
    "|    | yes  | no   | 42   | ♥ |\n",
    "|----|------|------|------|---|\n",
    "| k1 | 0    | 1    | info | † |\n",
    "| k2 | info | 1    | †    | 0 |\n",
    "| k3 | info | 0    | †    | 1 |\n",
    "| k4 | 0    | info | 1    | 2 |\n",
    "| k5 | 1    | info | 0    | 2 |"
   ],
   "id": "53408013f29f884f"
  },
  {
   "metadata": {},
   "cell_type": "markdown",
   "source": [
    "## 1. Encrypt $ (x_1, x_2, x_3) = (yes, 42, ♥) $ using keys $ (k_2, k_5, k_5) $\n",
    "yes -> $ k_2 $ = info  \n",
    "42  -> $ k_5 $ = 0  \n",
    "♥   -> $ k_5 $ = 2\n",
    "\n",
    "## 2. Decrypt $ (y_1, y_2, y_3, y_4) = (1, 2, 0, †) $ using keys $ (k_1, k_4, k_3, k_3) $\n",
    "1 -> $ k_1 $ = no\n",
    "2 -> $ k_4 $ = ♥\n",
    "0 -> $ k_3 $ = no\n",
    "† -> $ k_4 $ = 42\n",
    "\n",
    "## 3. Determine $ P(y=info) $\n",
    "$ P(y=info) = \\frac{9}{40} $ \n",
    "\n",
    "## 4. Determine $ P(x=♥|y=†) $\n",
    "$ P(x=♥|y=†) = \\frac{3}{40} $ "
   ],
   "id": "6740a8c95955122e"
  },
  {
   "metadata": {
    "ExecuteTime": {
     "end_time": "2024-11-14T23:19:35.093501Z",
     "start_time": "2024-11-14T23:19:35.089276Z"
    }
   },
   "cell_type": "code",
   "source": [
    "from fractions import Fraction\n",
    "probability_yes = Fraction(1, 5)\n",
    "probability_no = Fraction(2, 5)\n",
    "probability_42 = Fraction(1, 10)\n",
    "probability_heart = Fraction(3, 10)\n",
    "\n",
    "probability_k1 = probability_k2 = probability_k3 = Fraction(1, 4)\n",
    "probability_k4 = probability_k5 = Fraction(1, 8)\n",
    "\n",
    "probability_y_equals_info = ((probability_yes * probability_k2) + \n",
    "                             (probability_yes * probability_k3) + \n",
    "                             (probability_no * probability_k4) + \n",
    "                             (probability_no * probability_k5) + \n",
    "                             (probability_42 * probability_k1))\n",
    "\n",
    "probability_x_equals_heart_when_y_equals_cross = probability_heart * probability_k1 \n",
    "\n",
    "print(f\"P(y=info)={probability_y_equals_info}\")\n",
    "print(f\"P(x=♥|y=†)={probability_x_equals_heart_when_y_equals_cross}\")"
   ],
   "id": "a66af1c75abe03bb",
   "outputs": [
    {
     "name": "stdout",
     "output_type": "stream",
     "text": [
      "P(y=info)=9/40\n",
      "P(x=♥|y=†)=3/40\n"
     ]
    }
   ],
   "execution_count": 4
  },
  {
   "metadata": {},
   "cell_type": "markdown",
   "source": "",
   "id": "42ad7afaf2278115"
  }
 ],
 "metadata": {
  "kernelspec": {
   "display_name": "Python 3",
   "language": "python",
   "name": "python3"
  },
  "language_info": {
   "codemirror_mode": {
    "name": "ipython",
    "version": 2
   },
   "file_extension": ".py",
   "mimetype": "text/x-python",
   "name": "python",
   "nbconvert_exporter": "python",
   "pygments_lexer": "ipython2",
   "version": "2.7.6"
  }
 },
 "nbformat": 4,
 "nbformat_minor": 5
}
